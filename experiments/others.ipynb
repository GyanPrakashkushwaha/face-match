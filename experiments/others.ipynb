{
 "cells": [
  {
   "cell_type": "code",
   "execution_count": 3,
   "metadata": {},
   "outputs": [],
   "source": [
    "import os\n",
    "os.getcwd()\n",
    "from src.utils import load_pkl"
   ]
  },
  {
   "cell_type": "code",
   "execution_count": 4,
   "metadata": {},
   "outputs": [],
   "source": [
    "os.chdir('d:\\\\vscode_machineLearning\\\\BEST_PROJECTS\\\\face-match')"
   ]
  },
  {
   "cell_type": "code",
   "execution_count": 5,
   "metadata": {},
   "outputs": [
    {
     "name": "stdout",
     "output_type": "stream",
     "text": [
      "[2023-08-06 16:09:15,736: INFO: utils: model/img_features.pkl loaded successfully from the pickle file.]\n"
     ]
    }
   ],
   "source": [
    "img_feautures = load_pkl(file_path='model/img_features.pkl')"
   ]
  },
  {
   "cell_type": "code",
   "execution_count": 6,
   "metadata": {},
   "outputs": [
    {
     "data": {
      "text/plain": [
       "(array([0.       , 0.       , 0.       , ..., 4.520727 , 0.       ,\n",
       "        2.9732878], dtype=float32),)"
      ]
     },
     "execution_count": 6,
     "metadata": {},
     "output_type": "execute_result"
    }
   ],
   "source": [
    "img_feautures[0]"
   ]
  },
  {
   "cell_type": "code",
   "execution_count": 7,
   "metadata": {},
   "outputs": [
    {
     "data": {
      "text/plain": [
       "8664"
      ]
     },
     "execution_count": 7,
     "metadata": {},
     "output_type": "execute_result"
    }
   ],
   "source": [
    "len(img_feautures)"
   ]
  },
  {
   "cell_type": "code",
   "execution_count": 8,
   "metadata": {},
   "outputs": [
    {
     "data": {
      "text/plain": [
       "list"
      ]
     },
     "execution_count": 8,
     "metadata": {},
     "output_type": "execute_result"
    }
   ],
   "source": [
    "type(img_feautures)"
   ]
  },
  {
   "cell_type": "markdown",
   "metadata": {},
   "source": [
    "## actor name"
   ]
  },
  {
   "cell_type": "code",
   "execution_count": 9,
   "metadata": {},
   "outputs": [
    {
     "name": "stdout",
     "output_type": "stream",
     "text": [
      "[2023-08-06 16:09:15,821: INFO: utils: model/img_files_path.pkl loaded successfully from the pickle file.]\n"
     ]
    }
   ],
   "source": [
    "file_path = load_pkl('model/img_files_path.pkl')"
   ]
  },
  {
   "cell_type": "code",
   "execution_count": 10,
   "metadata": {},
   "outputs": [
    {
     "data": {
      "text/plain": [
       "'Aamir.100.jpg'"
      ]
     },
     "execution_count": 10,
     "metadata": {},
     "output_type": "execute_result"
    }
   ],
   "source": [
    "' '.join(file_path[0].split('\\\\')[2].split('_'))"
   ]
  },
  {
   "cell_type": "code",
   "execution_count": 11,
   "metadata": {},
   "outputs": [],
   "source": [
    "import streamlit as st\n",
    "from src.utils import save_uploaded_img\n",
    "from PIL import Image\n",
    "from src.detect_face import detect_face\n",
    "from src.recommend import Recommend\n",
    "from src.utils import load_pkl\n",
    "import os"
   ]
  },
  {
   "cell_type": "code",
   "execution_count": 38,
   "metadata": {},
   "outputs": [
    {
     "name": "stdout",
     "output_type": "stream",
     "text": [
      "[2023-08-06 16:12:18,627: INFO: utils: model/img_features.pkl loaded successfully from the pickle file.]\n",
      "[2023-08-06 16:12:18,641: INFO: utils: model/img_files_path.pkl loaded successfully from the pickle file.]\n",
      "[2023-08-06 16:12:18,825: INFO: detect_face: Loading image from uploaded_images\\Abhay_Deol.18.jpg.]\n",
      "[2023-08-06 16:12:18,826: INFO: detect_face: Detecting face in the image.]\n",
      "[2023-08-06 16:12:18,904: WARNING: def_function: 7 out of the last 8 calls to <function Model.make_predict_function.<locals>.predict_function at 0x0000024F9A59CDC0> triggered tf.function retracing. Tracing is expensive and the excessive number of tracings could be due to (1) creating @tf.function repeatedly in a loop, (2) passing tensors with different shapes, (3) passing Python objects instead of tensors. For (1), please define your @tf.function outside of the loop. For (2), @tf.function has experimental_relax_shapes=True option that relaxes argument shapes that can avoid unnecessary retracing. For (3), please refer to https://www.tensorflow.org/tutorials/customization/performance#python_or_tensor_args and https://www.tensorflow.org/api_docs/python/tf/function for  more details.]\n",
      "[2023-08-06 16:12:18,997: WARNING: def_function: 8 out of the last 9 calls to <function Model.make_predict_function.<locals>.predict_function at 0x0000024F9A59CDC0> triggered tf.function retracing. Tracing is expensive and the excessive number of tracings could be due to (1) creating @tf.function repeatedly in a loop, (2) passing tensors with different shapes, (3) passing Python objects instead of tensors. For (1), please define your @tf.function outside of the loop. For (2), @tf.function has experimental_relax_shapes=True option that relaxes argument shapes that can avoid unnecessary retracing. For (3), please refer to https://www.tensorflow.org/tutorials/customization/performance#python_or_tensor_args and https://www.tensorflow.org/api_docs/python/tf/function for  more details.]\n",
      "[2023-08-06 16:12:19,074: WARNING: def_function: 9 out of the last 10 calls to <function Model.make_predict_function.<locals>.predict_function at 0x0000024F9A59CDC0> triggered tf.function retracing. Tracing is expensive and the excessive number of tracings could be due to (1) creating @tf.function repeatedly in a loop, (2) passing tensors with different shapes, (3) passing Python objects instead of tensors. For (1), please define your @tf.function outside of the loop. For (2), @tf.function has experimental_relax_shapes=True option that relaxes argument shapes that can avoid unnecessary retracing. For (3), please refer to https://www.tensorflow.org/tutorials/customization/performance#python_or_tensor_args and https://www.tensorflow.org/api_docs/python/tf/function for  more details.]\n",
      "[2023-08-06 16:12:19,204: WARNING: def_function: 9 out of the last 11 calls to <function Model.make_predict_function.<locals>.predict_function at 0x0000024F9A584B80> triggered tf.function retracing. Tracing is expensive and the excessive number of tracings could be due to (1) creating @tf.function repeatedly in a loop, (2) passing tensors with different shapes, (3) passing Python objects instead of tensors. For (1), please define your @tf.function outside of the loop. For (2), @tf.function has experimental_relax_shapes=True option that relaxes argument shapes that can avoid unnecessary retracing. For (3), please refer to https://www.tensorflow.org/tutorials/customization/performance#python_or_tensor_args and https://www.tensorflow.org/api_docs/python/tf/function for  more details.]\n",
      "[2023-08-06 16:12:19,307: WARNING: def_function: 9 out of the last 11 calls to <function Model.make_predict_function.<locals>.predict_function at 0x0000024F9A4BB160> triggered tf.function retracing. Tracing is expensive and the excessive number of tracings could be due to (1) creating @tf.function repeatedly in a loop, (2) passing tensors with different shapes, (3) passing Python objects instead of tensors. For (1), please define your @tf.function outside of the loop. For (2), @tf.function has experimental_relax_shapes=True option that relaxes argument shapes that can avoid unnecessary retracing. For (3), please refer to https://www.tensorflow.org/tutorials/customization/performance#python_or_tensor_args and https://www.tensorflow.org/api_docs/python/tf/function for  more details.]\n",
      "[2023-08-06 16:12:19,310: INFO: recommend: Face detected and initialized.]\n",
      "[2023-08-06 16:12:19,312: INFO: recommend: Face prediction started.]\n",
      "[2023-08-06 16:12:19,428: INFO: recommend: Face prediction completed.]\n"
     ]
    }
   ],
   "source": [
    "# similarityscore\n",
    "features_list = load_pkl('model/img_features.pkl')\n",
    "file_path = load_pkl('model/img_files_path.pkl')\n",
    "\n",
    "face_arrayss = detect_face(r'uploaded_images\\Abhay_Deol.18.jpg')\n",
    "# st.write(face_arrayss)\n",
    "\n",
    "rec = Recommend()\n",
    "opt = rec.prediction(face_arrayss)\n",
    "\n",
    "# st.write(opt)\n",
    "# st.write(type(opt.reshape(1,-1)))\n",
    "\n",
    "\n",
    "similarities = rec.similarity_list(features_list=features_list,result=opt)\n",
    "# st.write(similarity)\n",
    "\n",
    "recommendation = rec.recommend(similarity_lst=similarities)\n",
    "# st.write(recommend)\n",
    "\n",
    "st.subheader('Your Sibling Celebreties:')\n",
    "\n",
    "imgs = []\n",
    "similarity_score = []\n",
    "actor_name = []\n",
    "for i in recommendation:\n",
    "    imgs.append(file_path[i[0]])\n",
    "    similarity_score.append(i[1])\n",
    "    parts = file_path[i[0]].split('\\\\')[1].split('_')\n",
    "    actor_name.append(' '.join(parts))\n"
   ]
  },
  {
   "cell_type": "code",
   "execution_count": 50,
   "metadata": {},
   "outputs": [],
   "source": [
    "similarity_score_lst = [round(i*100,ndigits=2) for i in similarity_score]"
   ]
  },
  {
   "cell_type": "code",
   "execution_count": 51,
   "metadata": {},
   "outputs": [
    {
     "data": {
      "text/plain": [
       "[79.09, 76.84, 65.99, 65.64, 64.94]"
      ]
     },
     "execution_count": 51,
     "metadata": {},
     "output_type": "execute_result"
    }
   ],
   "source": [
    "similarity_score_lst"
   ]
  }
 ],
 "metadata": {
  "kernelspec": {
   "display_name": "faceenv",
   "language": "python",
   "name": "python3"
  },
  "language_info": {
   "codemirror_mode": {
    "name": "ipython",
    "version": 3
   },
   "file_extension": ".py",
   "mimetype": "text/x-python",
   "name": "python",
   "nbconvert_exporter": "python",
   "pygments_lexer": "ipython3",
   "version": "3.8.0"
  },
  "orig_nbformat": 4
 },
 "nbformat": 4,
 "nbformat_minor": 2
}
